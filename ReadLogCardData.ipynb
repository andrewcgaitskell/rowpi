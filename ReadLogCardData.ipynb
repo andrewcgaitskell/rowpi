{
 "cells": [
  {
   "cell_type": "code",
   "execution_count": 214,
   "metadata": {
    "collapsed": true
   },
   "outputs": [],
   "source": [
    "import csv\n",
    "\n",
    "import psycopg2\n",
    "import psycopg2.extras\n",
    "\n",
    "try:\n",
    "    conn = psycopg2.connect(\"dbname='RowingMac' user='rowloguser' host='localhost' password='rowloguser'\")\n",
    "except:\n",
    "    print(\"I am unable to connect to the database\")"
   ]
  },
  {
   "cell_type": "code",
   "execution_count": 215,
   "metadata": {
    "collapsed": true
   },
   "outputs": [],
   "source": [
    "cur = conn.cursor()"
   ]
  },
  {
   "cell_type": "code",
   "execution_count": 216,
   "metadata": {},
   "outputs": [],
   "source": [
    "a = 0\n",
    "LoT = []\n",
    "with open('/Users/andrewgaitskell/documents/LogCard.csv', newline='') as csvfile:\n",
    "    logcardfilereader = csv.reader(csvfile, delimiter=' ', quotechar='|')\n",
    "    for row in logcardfilereader:\n",
    "        #print(a,','.join(row))\n",
    "        tr = tuple(row)\n",
    "        tr = tr + tuple(str(a))\n",
    "        if a > 6 and len(tuple(row)) == 18:\n",
    "            LoT.append(tuple(row))\n",
    "        a = a + 1\n",
    "\n"
   ]
  },
  {
   "cell_type": "code",
   "execution_count": 217,
   "metadata": {},
   "outputs": [
    {
     "name": "stdout",
     "output_type": "stream",
     "text": [
      "16\n",
      "('Andy', '19/08/2017', '14:26', '0:05:58', '05:58.6', '1015', '18', '0', '', '', '', '', '02:56.6', '518', '63', 9)\n"
     ]
    }
   ],
   "source": [
    "LoT = []\n",
    "with open('/Users/andrewgaitskell/documents/LogCard.csv') as f:\n",
    "    data=[tuple(line) for line in csv.reader(f)]\n",
    "\n",
    "#print(data)\n",
    "a = 0\n",
    "for d in data:\n",
    "    d = d + tuple([a])\n",
    "    #print(d)\n",
    "    #print(len(tuple(d)))\n",
    "    if a > 5 and (len(tuple(d)) == 17):\n",
    "        LoT.append(d)\n",
    "    a = a + 1\n",
    "\n",
    "    \n",
    "LoTFiltered = [el[1:] for el in map(tuple, LoT)]\n",
    "print(len(LoTFiltered[1]))\n",
    "print(LoTFiltered[2])\n",
    "#print(LoTFiltered)\n",
    "    "
   ]
  },
  {
   "cell_type": "code",
   "execution_count": 218,
   "metadata": {},
   "outputs": [],
   "source": [
    "#print(LoTFiltered[100])\n",
    "#print(len(LoTFiltered[100]))"
   ]
  },
  {
   "cell_type": "code",
   "execution_count": 219,
   "metadata": {},
   "outputs": [],
   "source": [
    "insert_query1 = 'INSERT INTO \"LocalData\".\"LogCardDataText\"('\n",
    "insert_query2_1 = '\"Name\", \"RowDate\", \"RowTime\", \"RowName\", \"TotalRowTime\", \"TotalRowDistance\",'\n",
    "insert_query2_2 = '\"TotalRowAveSPM\", \"TotalRowAveHR\", \"SplitTime\", \"SplitDistance\", \"SplitSPM\",\"SplitHR\",'\n",
    "insert_query2_3 = '\"Per500m\", \"CalPerHr\", \"WattsGenerated\", '\n",
    "insert_query2_4 = '\"IntervalRestTime\", \"IntervalRestDistance\",\"IntervalRestHR\",'\n",
    "insert_query2_5 = '\"UniqueRowID\")'\n",
    "#insert_query3 = ' VALUES (?, ?, ?, ?, ?, ?, ?, ?, ?, ?, ?, ?, ?, ?, ?, ?, ?, ?);'\n",
    "#insert_query3 = 'VALUES (%s, %s, %s, %s, %s, %s, %s, %s, %s, %s, %s, %s, %s, %s, %s, %s, %s, %s)'\n",
    "insert_query3 = ' VALUES %s'\n",
    "insert_query = insert_query1 + insert_query2_1 + insert_query2_2 + insert_query2_3 + insert_query2_5 + insert_query3"
   ]
  },
  {
   "cell_type": "code",
   "execution_count": 220,
   "metadata": {},
   "outputs": [
    {
     "name": "stdout",
     "output_type": "stream",
     "text": [
      "INSERT INTO \"LocalData\".\"LogCardDataText\"(\"Name\", \"RowDate\", \"RowTime\", \"RowName\", \"TotalRowTime\", \"TotalRowDistance\",\"TotalRowAveSPM\", \"TotalRowAveHR\", \"SplitTime\", \"SplitDistance\", \"SplitSPM\",\"SplitHR\",\"Per500m\", \"CalPerHr\", \"WattsGenerated\", \"UniqueRowID\") VALUES %s\n"
     ]
    }
   ],
   "source": [
    "print(insert_query)"
   ]
  },
  {
   "cell_type": "code",
   "execution_count": 221,
   "metadata": {},
   "outputs": [],
   "source": [
    "psycopg2.extras.execute_values (cur, insert_query, LoTFiltered)"
   ]
  },
  {
   "cell_type": "code",
   "execution_count": 222,
   "metadata": {
    "collapsed": true
   },
   "outputs": [],
   "source": [
    "conn.commit()\n",
    "cur.close()\n",
    "conn.close()"
   ]
  }
 ],
 "metadata": {
  "kernelspec": {
   "display_name": "Python 3",
   "language": "python",
   "name": "python3"
  },
  "language_info": {
   "codemirror_mode": {
    "name": "ipython",
    "version": 3
   },
   "file_extension": ".py",
   "mimetype": "text/x-python",
   "name": "python",
   "nbconvert_exporter": "python",
   "pygments_lexer": "ipython3",
   "version": "3.6.3"
  }
 },
 "nbformat": 4,
 "nbformat_minor": 2
}
